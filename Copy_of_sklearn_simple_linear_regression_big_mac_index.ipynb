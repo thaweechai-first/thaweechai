{
  "nbformat": 4,
  "nbformat_minor": 0,
  "metadata": {
    "kernelspec": {
      "name": "python3",
      "display_name": "Python 3"
    },
    "language_info": {
      "codemirror_mode": {
        "name": "ipython",
        "version": 3
      },
      "file_extension": ".py",
      "mimetype": "text/x-python",
      "name": "python",
      "nbconvert_exporter": "python",
      "pygments_lexer": "ipython3",
      "version": "3.7.6"
    },
    "colab": {
      "name": "Copy of sklearn_simple_linear_regression_big_mac_index.ipynb",
      "provenance": [],
      "collapsed_sections": [
        "VQ7YJD7dsyJ_"
      ],
      "include_colab_link": true
    },
    "accelerator": "GPU"
  },
  "cells": [
    {
      "cell_type": "markdown",
      "metadata": {
        "id": "view-in-github",
        "colab_type": "text"
      },
      "source": [
        "<a href=\"https://colab.research.google.com/github/thaweechai-first/thaweechai/blob/master/Copy_of_sklearn_simple_linear_regression_big_mac_index.ipynb\" target=\"_parent\"><img src=\"https://colab.research.google.com/assets/colab-badge.svg\" alt=\"Open In Colab\"/></a>"
      ]
    },
    {
      "cell_type": "markdown",
      "metadata": {
        "id": "jVbelvS9syHi",
        "colab_type": "text"
      },
      "source": [
        "# Simple Linear Regression"
      ]
    },
    {
      "cell_type": "code",
      "metadata": {
        "id": "hh8FP6ywsyHr",
        "colab_type": "code",
        "colab": {
          "base_uri": "https://localhost:8080/",
          "height": 51
        },
        "outputId": "bd141b36-92e6-4f43-bd47-17a9342a343c"
      },
      "source": [
        "import pandas as pd\n",
        "import seaborn as sns\n",
        "import numpy as np\n",
        "import matplotlib.pyplot as plt\n",
        "%matplotlib inline\n",
        "%config InlineBackend.figure_format = 'retina'"
      ],
      "execution_count": 1,
      "outputs": [
        {
          "output_type": "stream",
          "text": [
            "/usr/local/lib/python3.6/dist-packages/statsmodels/tools/_testing.py:19: FutureWarning: pandas.util.testing is deprecated. Use the functions in the public API at pandas.testing instead.\n",
            "  import pandas.util.testing as tm\n"
          ],
          "name": "stderr"
        }
      ]
    },
    {
      "cell_type": "code",
      "metadata": {
        "id": "0I0XYH9JsyHx",
        "colab_type": "code",
        "outputId": "8169bd72-96de-4930-9dd1-80ec1834239f",
        "colab": {
          "base_uri": "https://localhost:8080/",
          "height": 68
        }
      },
      "source": [
        "print(f'pandas  version: {pd.__version__}')\n",
        "print(f'numpy   version: {np.__version__}')\n",
        "print(f'seaborn version: {sns.__version__}')"
      ],
      "execution_count": 2,
      "outputs": [
        {
          "output_type": "stream",
          "text": [
            "pandas  version: 1.0.3\n",
            "numpy   version: 1.18.2\n",
            "seaborn version: 0.10.0\n"
          ],
          "name": "stdout"
        }
      ]
    },
    {
      "cell_type": "code",
      "metadata": {
        "scrolled": true,
        "id": "ljIfsWrUsyH0",
        "colab_type": "code",
        "outputId": "15cce0f9-ff42-4968-e45c-45801a75ad9e",
        "colab": {
          "base_uri": "https://localhost:8080/",
          "height": 204
        }
      },
      "source": [
        "url='https://github.com/TheEconomist/big-mac-data/raw/master/output-data/big-mac-adjusted-index.csv'\n",
        "df=pd.read_csv(url, parse_dates=['date'])\n",
        "# df=pd.read_csv(url)\n",
        "df.head()"
      ],
      "execution_count": 11,
      "outputs": [
        {
          "output_type": "execute_result",
          "data": {
            "text/html": [
              "<div>\n",
              "<style scoped>\n",
              "    .dataframe tbody tr th:only-of-type {\n",
              "        vertical-align: middle;\n",
              "    }\n",
              "\n",
              "    .dataframe tbody tr th {\n",
              "        vertical-align: top;\n",
              "    }\n",
              "\n",
              "    .dataframe thead th {\n",
              "        text-align: right;\n",
              "    }\n",
              "</style>\n",
              "<table border=\"1\" class=\"dataframe\">\n",
              "  <thead>\n",
              "    <tr style=\"text-align: right;\">\n",
              "      <th></th>\n",
              "      <th>date</th>\n",
              "      <th>iso_a3</th>\n",
              "      <th>currency_code</th>\n",
              "      <th>name</th>\n",
              "      <th>local_price</th>\n",
              "      <th>dollar_ex</th>\n",
              "      <th>dollar_price</th>\n",
              "      <th>GDP_dollar</th>\n",
              "      <th>adj_price</th>\n",
              "      <th>USD</th>\n",
              "      <th>EUR</th>\n",
              "      <th>GBP</th>\n",
              "      <th>JPY</th>\n",
              "      <th>CNY</th>\n",
              "    </tr>\n",
              "  </thead>\n",
              "  <tbody>\n",
              "    <tr>\n",
              "      <th>0</th>\n",
              "      <td>2011-07-01</td>\n",
              "      <td>ARG</td>\n",
              "      <td>ARS</td>\n",
              "      <td>Argentina</td>\n",
              "      <td>20.00</td>\n",
              "      <td>4.132500</td>\n",
              "      <td>4.839685</td>\n",
              "      <td>9138.177</td>\n",
              "      <td>3.149757</td>\n",
              "      <td>1.011</td>\n",
              "      <td>0.475</td>\n",
              "      <td>0.850</td>\n",
              "      <td>0.906</td>\n",
              "      <td>0.946</td>\n",
              "    </tr>\n",
              "    <tr>\n",
              "      <th>1</th>\n",
              "      <td>2011-07-01</td>\n",
              "      <td>AUS</td>\n",
              "      <td>AUD</td>\n",
              "      <td>Australia</td>\n",
              "      <td>4.56</td>\n",
              "      <td>0.922382</td>\n",
              "      <td>4.943724</td>\n",
              "      <td>55589.549</td>\n",
              "      <td>5.792526</td>\n",
              "      <td>0.117</td>\n",
              "      <td>-0.181</td>\n",
              "      <td>0.027</td>\n",
              "      <td>0.059</td>\n",
              "      <td>0.081</td>\n",
              "    </tr>\n",
              "    <tr>\n",
              "      <th>2</th>\n",
              "      <td>2011-07-01</td>\n",
              "      <td>BRA</td>\n",
              "      <td>BRL</td>\n",
              "      <td>Brazil</td>\n",
              "      <td>9.50</td>\n",
              "      <td>1.541600</td>\n",
              "      <td>6.162429</td>\n",
              "      <td>10816.487</td>\n",
              "      <td>3.245241</td>\n",
              "      <td>1.485</td>\n",
              "      <td>0.823</td>\n",
              "      <td>1.286</td>\n",
              "      <td>1.356</td>\n",
              "      <td>1.405</td>\n",
              "    </tr>\n",
              "    <tr>\n",
              "      <th>3</th>\n",
              "      <td>2011-07-01</td>\n",
              "      <td>GBR</td>\n",
              "      <td>GBP</td>\n",
              "      <td>Britain</td>\n",
              "      <td>2.39</td>\n",
              "      <td>0.614137</td>\n",
              "      <td>3.891637</td>\n",
              "      <td>36119.846</td>\n",
              "      <td>4.684831</td>\n",
              "      <td>0.087</td>\n",
              "      <td>-0.202</td>\n",
              "      <td>0.000</td>\n",
              "      <td>0.031</td>\n",
              "      <td>0.052</td>\n",
              "    </tr>\n",
              "    <tr>\n",
              "      <th>4</th>\n",
              "      <td>2011-07-01</td>\n",
              "      <td>CAN</td>\n",
              "      <td>CAD</td>\n",
              "      <td>Canada</td>\n",
              "      <td>4.73</td>\n",
              "      <td>0.945850</td>\n",
              "      <td>5.000793</td>\n",
              "      <td>46214.914</td>\n",
              "      <td>5.259173</td>\n",
              "      <td>0.244</td>\n",
              "      <td>-0.087</td>\n",
              "      <td>0.145</td>\n",
              "      <td>0.180</td>\n",
              "      <td>0.204</td>\n",
              "    </tr>\n",
              "  </tbody>\n",
              "</table>\n",
              "</div>"
            ],
            "text/plain": [
              "        date iso_a3 currency_code       name  ...    EUR    GBP    JPY    CNY\n",
              "0 2011-07-01    ARG           ARS  Argentina  ...  0.475  0.850  0.906  0.946\n",
              "1 2011-07-01    AUS           AUD  Australia  ... -0.181  0.027  0.059  0.081\n",
              "2 2011-07-01    BRA           BRL     Brazil  ...  0.823  1.286  1.356  1.405\n",
              "3 2011-07-01    GBR           GBP    Britain  ... -0.202  0.000  0.031  0.052\n",
              "4 2011-07-01    CAN           CAD     Canada  ... -0.087  0.145  0.180  0.204\n",
              "\n",
              "[5 rows x 14 columns]"
            ]
          },
          "metadata": {
            "tags": []
          },
          "execution_count": 11
        }
      ]
    },
    {
      "cell_type": "code",
      "metadata": {
        "id": "DyooZhnjsyH4",
        "colab_type": "code",
        "outputId": "95364b17-e71c-4b4e-a471-ea7cca8f7552",
        "colab": {
          "base_uri": "https://localhost:8080/",
          "height": 374
        }
      },
      "source": [
        "df.info()"
      ],
      "execution_count": 12,
      "outputs": [
        {
          "output_type": "stream",
          "text": [
            "<class 'pandas.core.frame.DataFrame'>\n",
            "RangeIndex: 665 entries, 0 to 664\n",
            "Data columns (total 14 columns):\n",
            " #   Column         Non-Null Count  Dtype         \n",
            "---  ------         --------------  -----         \n",
            " 0   date           665 non-null    datetime64[ns]\n",
            " 1   iso_a3         665 non-null    object        \n",
            " 2   currency_code  665 non-null    object        \n",
            " 3   name           665 non-null    object        \n",
            " 4   local_price    665 non-null    float64       \n",
            " 5   dollar_ex      665 non-null    float64       \n",
            " 6   dollar_price   665 non-null    float64       \n",
            " 7   GDP_dollar     665 non-null    float64       \n",
            " 8   adj_price      665 non-null    float64       \n",
            " 9   USD            665 non-null    float64       \n",
            " 10  EUR            665 non-null    float64       \n",
            " 11  GBP            665 non-null    float64       \n",
            " 12  JPY            665 non-null    float64       \n",
            " 13  CNY            665 non-null    float64       \n",
            "dtypes: datetime64[ns](1), float64(10), object(3)\n",
            "memory usage: 72.9+ KB\n"
          ],
          "name": "stdout"
        }
      ]
    },
    {
      "cell_type": "code",
      "metadata": {
        "scrolled": true,
        "id": "GA5XfBu6syH7",
        "colab_type": "code",
        "outputId": "e21c54ab-539e-4580-c354-4b8ad7745d94",
        "colab": {
          "base_uri": "https://localhost:8080/",
          "height": 204
        }
      },
      "source": [
        "df=df[(df['date'].dt.year==2019) & (df['date'].dt.month==1)]\n",
        "df.head()"
      ],
      "execution_count": 13,
      "outputs": [
        {
          "output_type": "execute_result",
          "data": {
            "text/html": [
              "<div>\n",
              "<style scoped>\n",
              "    .dataframe tbody tr th:only-of-type {\n",
              "        vertical-align: middle;\n",
              "    }\n",
              "\n",
              "    .dataframe tbody tr th {\n",
              "        vertical-align: top;\n",
              "    }\n",
              "\n",
              "    .dataframe thead th {\n",
              "        text-align: right;\n",
              "    }\n",
              "</style>\n",
              "<table border=\"1\" class=\"dataframe\">\n",
              "  <thead>\n",
              "    <tr style=\"text-align: right;\">\n",
              "      <th></th>\n",
              "      <th>date</th>\n",
              "      <th>iso_a3</th>\n",
              "      <th>currency_code</th>\n",
              "      <th>name</th>\n",
              "      <th>local_price</th>\n",
              "      <th>dollar_ex</th>\n",
              "      <th>dollar_price</th>\n",
              "      <th>GDP_dollar</th>\n",
              "      <th>adj_price</th>\n",
              "      <th>USD</th>\n",
              "      <th>EUR</th>\n",
              "      <th>GBP</th>\n",
              "      <th>JPY</th>\n",
              "      <th>CNY</th>\n",
              "    </tr>\n",
              "  </thead>\n",
              "  <tbody>\n",
              "    <tr>\n",
              "      <th>554</th>\n",
              "      <td>2019-01-01</td>\n",
              "      <td>ARG</td>\n",
              "      <td>ARS</td>\n",
              "      <td>Argentina</td>\n",
              "      <td>75.00</td>\n",
              "      <td>37.455000</td>\n",
              "      <td>2.002403</td>\n",
              "      <td>14462.920</td>\n",
              "      <td>3.165211</td>\n",
              "      <td>-0.419</td>\n",
              "      <td>-0.434</td>\n",
              "      <td>-0.338</td>\n",
              "      <td>-0.261</td>\n",
              "      <td>-0.396</td>\n",
              "    </tr>\n",
              "    <tr>\n",
              "      <th>555</th>\n",
              "      <td>2019-01-01</td>\n",
              "      <td>AUS</td>\n",
              "      <td>AUD</td>\n",
              "      <td>Australia</td>\n",
              "      <td>6.10</td>\n",
              "      <td>1.401640</td>\n",
              "      <td>4.352045</td>\n",
              "      <td>55692.730</td>\n",
              "      <td>4.945273</td>\n",
              "      <td>-0.192</td>\n",
              "      <td>-0.213</td>\n",
              "      <td>-0.080</td>\n",
              "      <td>0.028</td>\n",
              "      <td>-0.160</td>\n",
              "    </tr>\n",
              "    <tr>\n",
              "      <th>556</th>\n",
              "      <td>2019-01-01</td>\n",
              "      <td>BRA</td>\n",
              "      <td>BRL</td>\n",
              "      <td>Brazil</td>\n",
              "      <td>16.90</td>\n",
              "      <td>3.717950</td>\n",
              "      <td>4.545516</td>\n",
              "      <td>9895.765</td>\n",
              "      <td>2.968028</td>\n",
              "      <td>0.406</td>\n",
              "      <td>0.370</td>\n",
              "      <td>0.601</td>\n",
              "      <td>0.789</td>\n",
              "      <td>0.463</td>\n",
              "    </tr>\n",
              "    <tr>\n",
              "      <th>557</th>\n",
              "      <td>2019-01-01</td>\n",
              "      <td>GBR</td>\n",
              "      <td>GBP</td>\n",
              "      <td>Britain</td>\n",
              "      <td>3.19</td>\n",
              "      <td>0.783208</td>\n",
              "      <td>4.072992</td>\n",
              "      <td>39800.274</td>\n",
              "      <td>4.259130</td>\n",
              "      <td>-0.122</td>\n",
              "      <td>-0.145</td>\n",
              "      <td>0.000</td>\n",
              "      <td>0.117</td>\n",
              "      <td>-0.087</td>\n",
              "    </tr>\n",
              "    <tr>\n",
              "      <th>558</th>\n",
              "      <td>2019-01-01</td>\n",
              "      <td>CAN</td>\n",
              "      <td>CAD</td>\n",
              "      <td>Canada</td>\n",
              "      <td>6.77</td>\n",
              "      <td>1.331400</td>\n",
              "      <td>5.084873</td>\n",
              "      <td>45094.605</td>\n",
              "      <td>4.487708</td>\n",
              "      <td>0.040</td>\n",
              "      <td>0.013</td>\n",
              "      <td>0.185</td>\n",
              "      <td>0.323</td>\n",
              "      <td>0.082</td>\n",
              "    </tr>\n",
              "  </tbody>\n",
              "</table>\n",
              "</div>"
            ],
            "text/plain": [
              "          date iso_a3 currency_code       name  ...    EUR    GBP    JPY    CNY\n",
              "554 2019-01-01    ARG           ARS  Argentina  ... -0.434 -0.338 -0.261 -0.396\n",
              "555 2019-01-01    AUS           AUD  Australia  ... -0.213 -0.080  0.028 -0.160\n",
              "556 2019-01-01    BRA           BRL     Brazil  ...  0.370  0.601  0.789  0.463\n",
              "557 2019-01-01    GBR           GBP    Britain  ... -0.145  0.000  0.117 -0.087\n",
              "558 2019-01-01    CAN           CAD     Canada  ...  0.013  0.185  0.323  0.082\n",
              "\n",
              "[5 rows x 14 columns]"
            ]
          },
          "metadata": {
            "tags": []
          },
          "execution_count": 13
        }
      ]
    },
    {
      "cell_type": "code",
      "metadata": {
        "scrolled": true,
        "id": "c8JqbIZzsyH_",
        "colab_type": "code",
        "outputId": "6d9a46ed-64f9-4efc-9a2b-402793f1ae23",
        "colab": {
          "base_uri": "https://localhost:8080/",
          "height": 385
        }
      },
      "source": [
        "sns.lmplot(x='GDP_dollar', y='dollar_price', data=df, ci=None)"
      ],
      "execution_count": 14,
      "outputs": [
        {
          "output_type": "execute_result",
          "data": {
            "text/plain": [
              "<seaborn.axisgrid.FacetGrid at 0x7f12e6edfe10>"
            ]
          },
          "metadata": {
            "tags": []
          },
          "execution_count": 14
        },
        {
          "output_type": "display_data",
          "data": {
            "image/png": "[encoded data removed]",
            "text/plain": [
              "<Figure size 360x360 with 1 Axes>"
            ]
          },
          "metadata": {
            "tags": [],
            "image/png": {
              "width": 352,
              "height": 351
            }
          }
        }
      ]
    },
    {
      "cell_type": "code",
      "metadata": {
        "id": "_NEu_3TKsyIF",
        "colab_type": "code",
        "outputId": "b31d3c7e-e843-4ac7-e281-56c4e274ae2e",
        "colab": {
          "base_uri": "https://localhost:8080/",
          "height": 450
        }
      },
      "source": [
        "sns.jointplot(x='GDP_dollar', y='dollar_price', data=df, kind='reg', ci=None,\n",
        "              color='blue');"
      ],
      "execution_count": 17,
      "outputs": [
        {
          "output_type": "display_data",
          "data": {
            "image/png": "[encoded data removed]",
            "text/plain": [
              "<Figure size 432x432 with 3 Axes>"
            ]
          },
          "metadata": {
            "tags": [],
            "image/png": {
              "width": 414,
              "height": 433
            }
          }
        }
      ]
    },
    {
      "cell_type": "markdown",
      "metadata": {
        "id": "v3tWE01msyIK",
        "colab_type": "text"
      },
      "source": [
        "## sklearn: LinearRegression"
      ]
    },
    {
      "cell_type": "code",
      "metadata": {
        "id": "woK5-Ur6syIL",
        "colab_type": "code",
        "colab": {}
      },
      "source": [
        "import sklearn\n",
        "from sklearn.linear_model import LinearRegression"
      ],
      "execution_count": 0,
      "outputs": []
    },
    {
      "cell_type": "code",
      "metadata": {
        "id": "Cb0N8pZtsyIR",
        "colab_type": "code",
        "outputId": "7d21cadb-0af9-4824-a7f4-0c60505f0e92",
        "colab": {}
      },
      "source": [
        "print(f'sklearn version: {sklearn.__version__}')"
      ],
      "execution_count": 0,
      "outputs": [
        {
          "output_type": "stream",
          "text": [
            "sklearn version: 0.22.1\n"
          ],
          "name": "stdout"
        }
      ]
    },
    {
      "cell_type": "code",
      "metadata": {
        "id": "RY6bQszdsyIX",
        "colab_type": "code",
        "outputId": "4463c98b-d3c0-4d92-bb0e-ff115a2a1e3f",
        "colab": {
          "base_uri": "https://localhost:8080/",
          "height": 34
        }
      },
      "source": [
        "model = LinearRegression() # create object/instance (create an instance from LinearRegression class)\n",
        "model"
      ],
      "execution_count": 19,
      "outputs": [
        {
          "output_type": "execute_result",
          "data": {
            "text/plain": [
              "LinearRegression(copy_X=True, fit_intercept=True, n_jobs=None, normalize=False)"
            ]
          },
          "metadata": {
            "tags": []
          },
          "execution_count": 19
        }
      ]
    },
    {
      "cell_type": "code",
      "metadata": {
        "id": "SATBBjGbsyIc",
        "colab_type": "code",
        "outputId": "37215dcc-45d4-4e85-e04a-6feb75a85f1f",
        "colab": {
          "base_uri": "https://localhost:8080/",
          "height": 119
        }
      },
      "source": [
        "df['GDP_dollar'].head() # pandas Series"
      ],
      "execution_count": 20,
      "outputs": [
        {
          "output_type": "execute_result",
          "data": {
            "text/plain": [
              "554    14462.920\n",
              "555    55692.730\n",
              "556     9895.765\n",
              "557    39800.274\n",
              "558    45094.605\n",
              "Name: GDP_dollar, dtype: float64"
            ]
          },
          "metadata": {
            "tags": []
          },
          "execution_count": 20
        }
      ]
    },
    {
      "cell_type": "code",
      "metadata": {
        "id": "2ZYc-0_YsyIg",
        "colab_type": "code",
        "outputId": "b734dc55-64c7-4097-8380-3bdf5565388e",
        "colab": {
          "base_uri": "https://localhost:8080/",
          "height": 204
        }
      },
      "source": [
        "df[['GDP_dollar']].head()"
      ],
      "execution_count": 21,
      "outputs": [
        {
          "output_type": "execute_result",
          "data": {
            "text/html": [
              "<div>\n",
              "<style scoped>\n",
              "    .dataframe tbody tr th:only-of-type {\n",
              "        vertical-align: middle;\n",
              "    }\n",
              "\n",
              "    .dataframe tbody tr th {\n",
              "        vertical-align: top;\n",
              "    }\n",
              "\n",
              "    .dataframe thead th {\n",
              "        text-align: right;\n",
              "    }\n",
              "</style>\n",
              "<table border=\"1\" class=\"dataframe\">\n",
              "  <thead>\n",
              "    <tr style=\"text-align: right;\">\n",
              "      <th></th>\n",
              "      <th>GDP_dollar</th>\n",
              "    </tr>\n",
              "  </thead>\n",
              "  <tbody>\n",
              "    <tr>\n",
              "      <th>554</th>\n",
              "      <td>14462.920</td>\n",
              "    </tr>\n",
              "    <tr>\n",
              "      <th>555</th>\n",
              "      <td>55692.730</td>\n",
              "    </tr>\n",
              "    <tr>\n",
              "      <th>556</th>\n",
              "      <td>9895.765</td>\n",
              "    </tr>\n",
              "    <tr>\n",
              "      <th>557</th>\n",
              "      <td>39800.274</td>\n",
              "    </tr>\n",
              "    <tr>\n",
              "      <th>558</th>\n",
              "      <td>45094.605</td>\n",
              "    </tr>\n",
              "  </tbody>\n",
              "</table>\n",
              "</div>"
            ],
            "text/plain": [
              "     GDP_dollar\n",
              "554   14462.920\n",
              "555   55692.730\n",
              "556    9895.765\n",
              "557   39800.274\n",
              "558   45094.605"
            ]
          },
          "metadata": {
            "tags": []
          },
          "execution_count": 21
        }
      ]
    },
    {
      "cell_type": "code",
      "metadata": {
        "id": "IBlFU8y2syIk",
        "colab_type": "code",
        "outputId": "85058bf8-a3a8-464a-eb7f-84d1105f5455",
        "colab": {
          "base_uri": "https://localhost:8080/",
          "height": 34
        }
      },
      "source": [
        "model.fit(df[['GDP_dollar']], df['dollar_price']) # step 2: fitting model"
      ],
      "execution_count": 22,
      "outputs": [
        {
          "output_type": "execute_result",
          "data": {
            "text/plain": [
              "LinearRegression(copy_X=True, fit_intercept=True, n_jobs=None, normalize=False)"
            ]
          },
          "metadata": {
            "tags": []
          },
          "execution_count": 22
        }
      ]
    },
    {
      "cell_type": "code",
      "metadata": {
        "id": "hF8LOkc-syIo",
        "colab_type": "code",
        "outputId": "23d29037-de5d-437a-9d64-ef9eba2629a5",
        "colab": {}
      },
      "source": [
        "model.score(df[['GDP_dollar']], df['dollar_price']) # step 3: model scoring"
      ],
      "execution_count": 0,
      "outputs": [
        {
          "output_type": "execute_result",
          "data": {
            "text/plain": [
              "0.6312750690042251"
            ]
          },
          "metadata": {
            "tags": []
          },
          "execution_count": 15
        }
      ]
    },
    {
      "cell_type": "code",
      "metadata": {
        "id": "ib9M6MAmsyIr",
        "colab_type": "code",
        "outputId": "b6720bb1-c496-4d20-ba1b-4a1777ef5dab",
        "colab": {}
      },
      "source": [
        "# step 4: predicting\n",
        "model.predict([\n",
        "    [10000],\n",
        "    [20000],\n",
        "    [25000]\n",
        "]) # numpy array: X 2-dim array"
      ],
      "execution_count": 0,
      "outputs": [
        {
          "output_type": "execute_result",
          "data": {
            "text/plain": [
              "array([2.86968854, 3.30664993, 3.52513062])"
            ]
          },
          "metadata": {
            "tags": []
          },
          "execution_count": 16
        }
      ]
    },
    {
      "cell_type": "code",
      "metadata": {
        "scrolled": true,
        "id": "KPmSjbP4syIu",
        "colab_type": "code",
        "colab": {}
      },
      "source": [
        "X=df[['GDP_dollar']] # expect 2D array not Series (1D)\n",
        "y=df.dollar_price"
      ],
      "execution_count": 0,
      "outputs": []
    },
    {
      "cell_type": "code",
      "metadata": {
        "id": "sNNVdPZLsyIz",
        "colab_type": "code",
        "outputId": "a53f014c-da1c-471b-cc42-0fb7eb7b8862",
        "colab": {}
      },
      "source": [
        "model.fit(X, y)"
      ],
      "execution_count": 0,
      "outputs": [
        {
          "output_type": "execute_result",
          "data": {
            "text/plain": [
              "LinearRegression(copy_X=True, fit_intercept=True, n_jobs=None, normalize=False)"
            ]
          },
          "metadata": {
            "tags": []
          },
          "execution_count": 18
        }
      ]
    },
    {
      "cell_type": "code",
      "metadata": {
        "id": "bus_NE-wsyI2",
        "colab_type": "code",
        "outputId": "3f4dd504-0590-457c-8134-96c394881938",
        "colab": {}
      },
      "source": [
        "model.score(X, y) # R-squared"
      ],
      "execution_count": 0,
      "outputs": [
        {
          "output_type": "execute_result",
          "data": {
            "text/plain": [
              "0.6312750690042251"
            ]
          },
          "metadata": {
            "tags": []
          },
          "execution_count": 19
        }
      ]
    },
    {
      "cell_type": "code",
      "metadata": {
        "id": "kVGcKxFlsyI5",
        "colab_type": "code",
        "outputId": "40352cad-9d81-4162-d0fa-001d52e87816",
        "colab": {}
      },
      "source": [
        "model.intercept_"
      ],
      "execution_count": 0,
      "outputs": [
        {
          "output_type": "execute_result",
          "data": {
            "text/plain": [
              "2.432727161471293"
            ]
          },
          "metadata": {
            "tags": []
          },
          "execution_count": 20
        }
      ]
    },
    {
      "cell_type": "code",
      "metadata": {
        "id": "6rcWgzXksyI-",
        "colab_type": "code",
        "outputId": "788c049d-5392-48d9-a5d0-6e41ff1c97ea",
        "colab": {}
      },
      "source": [
        "model.coef_"
      ],
      "execution_count": 0,
      "outputs": [
        {
          "output_type": "execute_result",
          "data": {
            "text/plain": [
              "array([4.36961383e-05])"
            ]
          },
          "metadata": {
            "tags": []
          },
          "execution_count": 21
        }
      ]
    },
    {
      "cell_type": "markdown",
      "metadata": {
        "id": "GzhtszwZsyJD",
        "colab_type": "text"
      },
      "source": [
        "$y=\\alpha+\\beta x$"
      ]
    },
    {
      "cell_type": "code",
      "metadata": {
        "id": "HuXZHgyasyJD",
        "colab_type": "code",
        "outputId": "d402dc8e-34a2-4bb0-9930-e2216904318a",
        "colab": {}
      },
      "source": [
        "model.intercept_ + model.coef_ * 9000"
      ],
      "execution_count": 0,
      "outputs": [
        {
          "output_type": "execute_result",
          "data": {
            "text/plain": [
              "array([2.82599241])"
            ]
          },
          "metadata": {
            "tags": []
          },
          "execution_count": 22
        }
      ]
    },
    {
      "cell_type": "code",
      "metadata": {
        "id": "A4So3hTosyJG",
        "colab_type": "code",
        "colab": {}
      },
      "source": [
        "# error\n",
        "# model.predict(9000)"
      ],
      "execution_count": 0,
      "outputs": []
    },
    {
      "cell_type": "code",
      "metadata": {
        "id": "Cn9H9VfFsyJJ",
        "colab_type": "code",
        "outputId": "bec72550-79e7-4ddc-a2cc-9d7e0d6f4150",
        "colab": {}
      },
      "source": [
        "model.predict([[9000]]) # 2D array"
      ],
      "execution_count": 0,
      "outputs": [
        {
          "output_type": "execute_result",
          "data": {
            "text/plain": [
              "array([2.82599241])"
            ]
          },
          "metadata": {
            "tags": []
          },
          "execution_count": 24
        }
      ]
    },
    {
      "cell_type": "code",
      "metadata": {
        "scrolled": true,
        "id": "3tIvLPAusyJN",
        "colab_type": "code",
        "outputId": "cf9eea73-af85-4308-eac5-b6f916223a25",
        "colab": {}
      },
      "source": [
        "model.predict([[9000], \n",
        "               [40000]])"
      ],
      "execution_count": 0,
      "outputs": [
        {
          "output_type": "execute_result",
          "data": {
            "text/plain": [
              "array([2.82599241, 4.18057269])"
            ]
          },
          "metadata": {
            "tags": []
          },
          "execution_count": 25
        }
      ]
    },
    {
      "cell_type": "code",
      "metadata": {
        "id": "asoD9hfesyJU",
        "colab_type": "code",
        "outputId": "8baad3b9-26c7-458e-be64-cd83e5011dc6",
        "colab": {}
      },
      "source": [
        "np.arange(5000, 50001, 2500)"
      ],
      "execution_count": 0,
      "outputs": [
        {
          "output_type": "execute_result",
          "data": {
            "text/plain": [
              "array([ 5000,  7500, 10000, 12500, 15000, 17500, 20000, 22500, 25000,\n",
              "       27500, 30000, 32500, 35000, 37500, 40000, 42500, 45000, 47500,\n",
              "       50000])"
            ]
          },
          "metadata": {
            "tags": []
          },
          "execution_count": 26
        }
      ]
    },
    {
      "cell_type": "code",
      "metadata": {
        "id": "AlNGXn5psyJX",
        "colab_type": "code",
        "outputId": "75e1bf12-f44c-453d-9507-2fcce53a153d",
        "colab": {}
      },
      "source": [
        "np.arange(5000, 50001, 2500).reshape(-1, 1) # 2D"
      ],
      "execution_count": 0,
      "outputs": [
        {
          "output_type": "execute_result",
          "data": {
            "text/plain": [
              "array([[ 5000],\n",
              "       [ 7500],\n",
              "       [10000],\n",
              "       [12500],\n",
              "       [15000],\n",
              "       [17500],\n",
              "       [20000],\n",
              "       [22500],\n",
              "       [25000],\n",
              "       [27500],\n",
              "       [30000],\n",
              "       [32500],\n",
              "       [35000],\n",
              "       [37500],\n",
              "       [40000],\n",
              "       [42500],\n",
              "       [45000],\n",
              "       [47500],\n",
              "       [50000]])"
            ]
          },
          "metadata": {
            "tags": []
          },
          "execution_count": 27
        }
      ]
    },
    {
      "cell_type": "code",
      "metadata": {
        "id": "gZPVg1CvsyJf",
        "colab_type": "code",
        "outputId": "f141fdb3-3520-4f31-bca6-52c751e443e5",
        "colab": {}
      },
      "source": [
        "model.predict(np.arange(5000, 50001, 2500).reshape(-1, 1))"
      ],
      "execution_count": 0,
      "outputs": [
        {
          "output_type": "execute_result",
          "data": {
            "text/plain": [
              "array([2.65120785, 2.7604482 , 2.86968854, 2.97892889, 3.08816924,\n",
              "       3.19740958, 3.30664993, 3.41589027, 3.52513062, 3.63437096,\n",
              "       3.74361131, 3.85285166, 3.962092  , 4.07133235, 4.18057269,\n",
              "       4.28981304, 4.39905338, 4.50829373, 4.61753407])"
            ]
          },
          "metadata": {
            "tags": []
          },
          "execution_count": 28
        }
      ]
    },
    {
      "cell_type": "code",
      "metadata": {
        "id": "UKcCyaEfsyJk",
        "colab_type": "code",
        "outputId": "51acdfb5-d1df-4465-f778-f4ab8e4c3a58",
        "colab": {}
      },
      "source": [
        "np.linspace(5000, 50000, 20)"
      ],
      "execution_count": 0,
      "outputs": [
        {
          "output_type": "execute_result",
          "data": {
            "text/plain": [
              "array([ 5000.        ,  7368.42105263,  9736.84210526, 12105.26315789,\n",
              "       14473.68421053, 16842.10526316, 19210.52631579, 21578.94736842,\n",
              "       23947.36842105, 26315.78947368, 28684.21052632, 31052.63157895,\n",
              "       33421.05263158, 35789.47368421, 38157.89473684, 40526.31578947,\n",
              "       42894.73684211, 45263.15789474, 47631.57894737, 50000.        ])"
            ]
          },
          "metadata": {
            "tags": []
          },
          "execution_count": 29
        }
      ]
    },
    {
      "cell_type": "code",
      "metadata": {
        "id": "HkFljOjDsyJo",
        "colab_type": "code",
        "outputId": "7ecfabea-499c-4d8f-abf7-f0730856c043",
        "colab": {}
      },
      "source": [
        "np.linspace(5000, 50000, 20).reshape(-1, 1)"
      ],
      "execution_count": 0,
      "outputs": [
        {
          "output_type": "execute_result",
          "data": {
            "text/plain": [
              "array([[ 5000.        ],\n",
              "       [ 7368.42105263],\n",
              "       [ 9736.84210526],\n",
              "       [12105.26315789],\n",
              "       [14473.68421053],\n",
              "       [16842.10526316],\n",
              "       [19210.52631579],\n",
              "       [21578.94736842],\n",
              "       [23947.36842105],\n",
              "       [26315.78947368],\n",
              "       [28684.21052632],\n",
              "       [31052.63157895],\n",
              "       [33421.05263158],\n",
              "       [35789.47368421],\n",
              "       [38157.89473684],\n",
              "       [40526.31578947],\n",
              "       [42894.73684211],\n",
              "       [45263.15789474],\n",
              "       [47631.57894737],\n",
              "       [50000.        ]])"
            ]
          },
          "metadata": {
            "tags": []
          },
          "execution_count": 30
        }
      ]
    },
    {
      "cell_type": "code",
      "metadata": {
        "id": "SdrRIUnqsyJr",
        "colab_type": "code",
        "outputId": "e52d745c-6cc4-471d-c889-01b1898611e3",
        "colab": {}
      },
      "source": [
        "model.predict(np.linspace(5000, 50000, 20).reshape(-1, 1))"
      ],
      "execution_count": 0,
      "outputs": [
        {
          "output_type": "execute_result",
          "data": {
            "text/plain": [
              "array([2.65120785, 2.75469871, 2.85818956, 2.96168041, 3.06517127,\n",
              "       3.16866212, 3.27215298, 3.37564383, 3.47913468, 3.58262554,\n",
              "       3.68611639, 3.78960724, 3.8930981 , 3.99658895, 4.10007981,\n",
              "       4.20357066, 4.30706151, 4.41055237, 4.51404322, 4.61753407])"
            ]
          },
          "metadata": {
            "tags": []
          },
          "execution_count": 31
        }
      ]
    },
    {
      "cell_type": "code",
      "metadata": {
        "id": "MOzYae4ZsyJu",
        "colab_type": "code",
        "outputId": "3d4a4116-fe70-4fa7-a475-06a2f4687ccd",
        "colab": {}
      },
      "source": [
        "s=pd.Series(np.linspace(5000, 50000, 20))\n",
        "s"
      ],
      "execution_count": 0,
      "outputs": [
        {
          "output_type": "execute_result",
          "data": {
            "text/plain": [
              "0      5000.000000\n",
              "1      7368.421053\n",
              "2      9736.842105\n",
              "3     12105.263158\n",
              "4     14473.684211\n",
              "5     16842.105263\n",
              "6     19210.526316\n",
              "7     21578.947368\n",
              "8     23947.368421\n",
              "9     26315.789474\n",
              "10    28684.210526\n",
              "11    31052.631579\n",
              "12    33421.052632\n",
              "13    35789.473684\n",
              "14    38157.894737\n",
              "15    40526.315789\n",
              "16    42894.736842\n",
              "17    45263.157895\n",
              "18    47631.578947\n",
              "19    50000.000000\n",
              "dtype: float64"
            ]
          },
          "metadata": {
            "tags": []
          },
          "execution_count": 32
        }
      ]
    },
    {
      "cell_type": "code",
      "metadata": {
        "id": "j3wdi99qsyJ0",
        "colab_type": "code",
        "outputId": "22dcd3ee-8b1e-4033-c1ff-ffd4c1b58378",
        "colab": {}
      },
      "source": [
        "model.predict(s.to_frame())"
      ],
      "execution_count": 0,
      "outputs": [
        {
          "output_type": "execute_result",
          "data": {
            "text/plain": [
              "array([2.65120785, 2.75469871, 2.85818956, 2.96168041, 3.06517127,\n",
              "       3.16866212, 3.27215298, 3.37564383, 3.47913468, 3.58262554,\n",
              "       3.68611639, 3.78960724, 3.8930981 , 3.99658895, 4.10007981,\n",
              "       4.20357066, 4.30706151, 4.41055237, 4.51404322, 4.61753407])"
            ]
          },
          "metadata": {
            "tags": []
          },
          "execution_count": 33
        }
      ]
    },
    {
      "cell_type": "code",
      "metadata": {
        "scrolled": true,
        "id": "vjllY9SlsyJ4",
        "colab_type": "code",
        "outputId": "65da714e-6f32-4f0f-acc0-6f1562a281ec",
        "colab": {}
      },
      "source": [
        "dx=pd.DataFrame(np.linspace(5000, 50000, 20), columns=['gdp'])\n",
        "dx"
      ],
      "execution_count": 0,
      "outputs": [
        {
          "output_type": "execute_result",
          "data": {
            "text/html": [
              "<div>\n",
              "<style scoped>\n",
              "    .dataframe tbody tr th:only-of-type {\n",
              "        vertical-align: middle;\n",
              "    }\n",
              "\n",
              "    .dataframe tbody tr th {\n",
              "        vertical-align: top;\n",
              "    }\n",
              "\n",
              "    .dataframe thead th {\n",
              "        text-align: right;\n",
              "    }\n",
              "</style>\n",
              "<table border=\"1\" class=\"dataframe\">\n",
              "  <thead>\n",
              "    <tr style=\"text-align: right;\">\n",
              "      <th></th>\n",
              "      <th>gdp</th>\n",
              "    </tr>\n",
              "  </thead>\n",
              "  <tbody>\n",
              "    <tr>\n",
              "      <th>0</th>\n",
              "      <td>5000.000000</td>\n",
              "    </tr>\n",
              "    <tr>\n",
              "      <th>1</th>\n",
              "      <td>7368.421053</td>\n",
              "    </tr>\n",
              "    <tr>\n",
              "      <th>2</th>\n",
              "      <td>9736.842105</td>\n",
              "    </tr>\n",
              "    <tr>\n",
              "      <th>3</th>\n",
              "      <td>12105.263158</td>\n",
              "    </tr>\n",
              "    <tr>\n",
              "      <th>4</th>\n",
              "      <td>14473.684211</td>\n",
              "    </tr>\n",
              "    <tr>\n",
              "      <th>5</th>\n",
              "      <td>16842.105263</td>\n",
              "    </tr>\n",
              "    <tr>\n",
              "      <th>6</th>\n",
              "      <td>19210.526316</td>\n",
              "    </tr>\n",
              "    <tr>\n",
              "      <th>7</th>\n",
              "      <td>21578.947368</td>\n",
              "    </tr>\n",
              "    <tr>\n",
              "      <th>8</th>\n",
              "      <td>23947.368421</td>\n",
              "    </tr>\n",
              "    <tr>\n",
              "      <th>9</th>\n",
              "      <td>26315.789474</td>\n",
              "    </tr>\n",
              "    <tr>\n",
              "      <th>10</th>\n",
              "      <td>28684.210526</td>\n",
              "    </tr>\n",
              "    <tr>\n",
              "      <th>11</th>\n",
              "      <td>31052.631579</td>\n",
              "    </tr>\n",
              "    <tr>\n",
              "      <th>12</th>\n",
              "      <td>33421.052632</td>\n",
              "    </tr>\n",
              "    <tr>\n",
              "      <th>13</th>\n",
              "      <td>35789.473684</td>\n",
              "    </tr>\n",
              "    <tr>\n",
              "      <th>14</th>\n",
              "      <td>38157.894737</td>\n",
              "    </tr>\n",
              "    <tr>\n",
              "      <th>15</th>\n",
              "      <td>40526.315789</td>\n",
              "    </tr>\n",
              "    <tr>\n",
              "      <th>16</th>\n",
              "      <td>42894.736842</td>\n",
              "    </tr>\n",
              "    <tr>\n",
              "      <th>17</th>\n",
              "      <td>45263.157895</td>\n",
              "    </tr>\n",
              "    <tr>\n",
              "      <th>18</th>\n",
              "      <td>47631.578947</td>\n",
              "    </tr>\n",
              "    <tr>\n",
              "      <th>19</th>\n",
              "      <td>50000.000000</td>\n",
              "    </tr>\n",
              "  </tbody>\n",
              "</table>\n",
              "</div>"
            ],
            "text/plain": [
              "             gdp\n",
              "0    5000.000000\n",
              "1    7368.421053\n",
              "2    9736.842105\n",
              "3   12105.263158\n",
              "4   14473.684211\n",
              "5   16842.105263\n",
              "6   19210.526316\n",
              "7   21578.947368\n",
              "8   23947.368421\n",
              "9   26315.789474\n",
              "10  28684.210526\n",
              "11  31052.631579\n",
              "12  33421.052632\n",
              "13  35789.473684\n",
              "14  38157.894737\n",
              "15  40526.315789\n",
              "16  42894.736842\n",
              "17  45263.157895\n",
              "18  47631.578947\n",
              "19  50000.000000"
            ]
          },
          "metadata": {
            "tags": []
          },
          "execution_count": 34
        }
      ]
    },
    {
      "cell_type": "code",
      "metadata": {
        "id": "AIcFVsE-syJ8",
        "colab_type": "code",
        "outputId": "6027a943-a9bb-47aa-b869-4ac4198dee27",
        "colab": {}
      },
      "source": [
        "model.predict(dx)"
      ],
      "execution_count": 0,
      "outputs": [
        {
          "output_type": "execute_result",
          "data": {
            "text/plain": [
              "array([2.65120785, 2.75469871, 2.85818956, 2.96168041, 3.06517127,\n",
              "       3.16866212, 3.27215298, 3.37564383, 3.47913468, 3.58262554,\n",
              "       3.68611639, 3.78960724, 3.8930981 , 3.99658895, 4.10007981,\n",
              "       4.20357066, 4.30706151, 4.41055237, 4.51404322, 4.61753407])"
            ]
          },
          "metadata": {
            "tags": []
          },
          "execution_count": 35
        }
      ]
    },
    {
      "cell_type": "markdown",
      "metadata": {
        "id": "VQ7YJD7dsyJ_",
        "colab_type": "text"
      },
      "source": [
        "## Statsmodels: Simple Linear regression"
      ]
    },
    {
      "cell_type": "code",
      "metadata": {
        "id": "UwdmfPKzsyKA",
        "colab_type": "code",
        "colab": {}
      },
      "source": [
        "import statsmodels.api as sm\n",
        "import statsmodels.formula.api as smf"
      ],
      "execution_count": 0,
      "outputs": []
    },
    {
      "cell_type": "code",
      "metadata": {
        "id": "zbOfm5YmsyKG",
        "colab_type": "code",
        "colab": {}
      },
      "source": [
        "# formula: response ~ predictor1 + predictor2\n",
        "model_a = smf.ols(formula='dollar_price ~ GDP_dollar', data=df).fit()"
      ],
      "execution_count": 0,
      "outputs": []
    },
    {
      "cell_type": "code",
      "metadata": {
        "id": "KBdNBYC_syKJ",
        "colab_type": "code",
        "outputId": "6e5183b4-6025-4050-cf8a-11d0f31ee935",
        "colab": {}
      },
      "source": [
        "model_a.summary()"
      ],
      "execution_count": 0,
      "outputs": [
        {
          "output_type": "execute_result",
          "data": {
            "text/html": [
              "<table class=\"simpletable\">\n",
              "<caption>OLS Regression Results</caption>\n",
              "<tr>\n",
              "  <th>Dep. Variable:</th>      <td>dollar_price</td>   <th>  R-squared:         </th> <td>   0.631</td>\n",
              "</tr>\n",
              "<tr>\n",
              "  <th>Model:</th>                   <td>OLS</td>       <th>  Adj. R-squared:    </th> <td>   0.621</td>\n",
              "</tr>\n",
              "<tr>\n",
              "  <th>Method:</th>             <td>Least Squares</td>  <th>  F-statistic:       </th> <td>   59.92</td>\n",
              "</tr>\n",
              "<tr>\n",
              "  <th>Date:</th>             <td>Tue, 21 Jan 2020</td> <th>  Prob (F-statistic):</th> <td>4.34e-09</td>\n",
              "</tr>\n",
              "<tr>\n",
              "  <th>Time:</th>                 <td>19:35:48</td>     <th>  Log-Likelihood:    </th> <td> -41.445</td>\n",
              "</tr>\n",
              "<tr>\n",
              "  <th>No. Observations:</th>      <td>    37</td>      <th>  AIC:               </th> <td>   86.89</td>\n",
              "</tr>\n",
              "<tr>\n",
              "  <th>Df Residuals:</th>          <td>    35</td>      <th>  BIC:               </th> <td>   90.11</td>\n",
              "</tr>\n",
              "<tr>\n",
              "  <th>Df Model:</th>              <td>     1</td>      <th>                     </th>     <td> </td>   \n",
              "</tr>\n",
              "<tr>\n",
              "  <th>Covariance Type:</th>      <td>nonrobust</td>    <th>                     </th>     <td> </td>   \n",
              "</tr>\n",
              "</table>\n",
              "<table class=\"simpletable\">\n",
              "<tr>\n",
              "       <td></td>         <th>coef</th>     <th>std err</th>      <th>t</th>      <th>P>|t|</th>  <th>[0.025</th>    <th>0.975]</th>  \n",
              "</tr>\n",
              "<tr>\n",
              "  <th>Intercept</th>  <td>    2.4327</td> <td>    0.195</td> <td>   12.479</td> <td> 0.000</td> <td>    2.037</td> <td>    2.828</td>\n",
              "</tr>\n",
              "<tr>\n",
              "  <th>GDP_dollar</th> <td>  4.37e-05</td> <td> 5.64e-06</td> <td>    7.741</td> <td> 0.000</td> <td> 3.22e-05</td> <td> 5.52e-05</td>\n",
              "</tr>\n",
              "</table>\n",
              "<table class=\"simpletable\">\n",
              "<tr>\n",
              "  <th>Omnibus:</th>       <td> 0.604</td> <th>  Durbin-Watson:     </th> <td>   2.059</td>\n",
              "</tr>\n",
              "<tr>\n",
              "  <th>Prob(Omnibus):</th> <td> 0.739</td> <th>  Jarque-Bera (JB):  </th> <td>   0.312</td>\n",
              "</tr>\n",
              "<tr>\n",
              "  <th>Skew:</th>          <td>-0.225</td> <th>  Prob(JB):          </th> <td>   0.856</td>\n",
              "</tr>\n",
              "<tr>\n",
              "  <th>Kurtosis:</th>      <td> 2.983</td> <th>  Cond. No.          </th> <td>5.37e+04</td>\n",
              "</tr>\n",
              "</table><br/><br/>Warnings:<br/>[1] Standard Errors assume that the covariance matrix of the errors is correctly specified.<br/>[2] The condition number is large, 5.37e+04. This might indicate that there are<br/>strong multicollinearity or other numerical problems."
            ],
            "text/plain": [
              "<class 'statsmodels.iolib.summary.Summary'>\n",
              "\"\"\"\n",
              "                            OLS Regression Results                            \n",
              "==============================================================================\n",
              "Dep. Variable:           dollar_price   R-squared:                       0.631\n",
              "Model:                            OLS   Adj. R-squared:                  0.621\n",
              "Method:                 Least Squares   F-statistic:                     59.92\n",
              "Date:                Tue, 21 Jan 2020   Prob (F-statistic):           4.34e-09\n",
              "Time:                        19:35:48   Log-Likelihood:                -41.445\n",
              "No. Observations:                  37   AIC:                             86.89\n",
              "Df Residuals:                      35   BIC:                             90.11\n",
              "Df Model:                           1                                         \n",
              "Covariance Type:            nonrobust                                         \n",
              "==============================================================================\n",
              "                 coef    std err          t      P>|t|      [0.025      0.975]\n",
              "------------------------------------------------------------------------------\n",
              "Intercept      2.4327      0.195     12.479      0.000       2.037       2.828\n",
              "GDP_dollar   4.37e-05   5.64e-06      7.741      0.000    3.22e-05    5.52e-05\n",
              "==============================================================================\n",
              "Omnibus:                        0.604   Durbin-Watson:                   2.059\n",
              "Prob(Omnibus):                  0.739   Jarque-Bera (JB):                0.312\n",
              "Skew:                          -0.225   Prob(JB):                        0.856\n",
              "Kurtosis:                       2.983   Cond. No.                     5.37e+04\n",
              "==============================================================================\n",
              "\n",
              "Warnings:\n",
              "[1] Standard Errors assume that the covariance matrix of the errors is correctly specified.\n",
              "[2] The condition number is large, 5.37e+04. This might indicate that there are\n",
              "strong multicollinearity or other numerical problems.\n",
              "\"\"\""
            ]
          },
          "metadata": {
            "tags": []
          },
          "execution_count": 38
        }
      ]
    },
    {
      "cell_type": "code",
      "metadata": {
        "id": "vXUK9M3JsyKL",
        "colab_type": "code",
        "outputId": "1ead78aa-c595-4ab4-8441-0f8b48562f87",
        "colab": {}
      },
      "source": [
        "print(model_a.summary())"
      ],
      "execution_count": 0,
      "outputs": [
        {
          "output_type": "stream",
          "text": [
            "                            OLS Regression Results                            \n",
            "==============================================================================\n",
            "Dep. Variable:           dollar_price   R-squared:                       0.631\n",
            "Model:                            OLS   Adj. R-squared:                  0.621\n",
            "Method:                 Least Squares   F-statistic:                     59.92\n",
            "Date:                Tue, 21 Jan 2020   Prob (F-statistic):           4.34e-09\n",
            "Time:                        19:35:48   Log-Likelihood:                -41.445\n",
            "No. Observations:                  37   AIC:                             86.89\n",
            "Df Residuals:                      35   BIC:                             90.11\n",
            "Df Model:                           1                                         \n",
            "Covariance Type:            nonrobust                                         \n",
            "==============================================================================\n",
            "                 coef    std err          t      P>|t|      [0.025      0.975]\n",
            "------------------------------------------------------------------------------\n",
            "Intercept      2.4327      0.195     12.479      0.000       2.037       2.828\n",
            "GDP_dollar   4.37e-05   5.64e-06      7.741      0.000    3.22e-05    5.52e-05\n",
            "==============================================================================\n",
            "Omnibus:                        0.604   Durbin-Watson:                   2.059\n",
            "Prob(Omnibus):                  0.739   Jarque-Bera (JB):                0.312\n",
            "Skew:                          -0.225   Prob(JB):                        0.856\n",
            "Kurtosis:                       2.983   Cond. No.                     5.37e+04\n",
            "==============================================================================\n",
            "\n",
            "Warnings:\n",
            "[1] Standard Errors assume that the covariance matrix of the errors is correctly specified.\n",
            "[2] The condition number is large, 5.37e+04. This might indicate that there are\n",
            "strong multicollinearity or other numerical problems.\n"
          ],
          "name": "stdout"
        }
      ]
    },
    {
      "cell_type": "code",
      "metadata": {
        "scrolled": true,
        "id": "2wg66GUrsyKQ",
        "colab_type": "code",
        "outputId": "d4856c1a-8541-4a02-cfcf-7142bbbf1e78",
        "colab": {}
      },
      "source": [
        "model_a.pvalues"
      ],
      "execution_count": 0,
      "outputs": [
        {
          "output_type": "execute_result",
          "data": {
            "text/plain": [
              "Intercept     1.915703e-14\n",
              "GDP_dollar    4.338811e-09\n",
              "dtype: float64"
            ]
          },
          "metadata": {
            "tags": []
          },
          "execution_count": 40
        }
      ]
    },
    {
      "cell_type": "code",
      "metadata": {
        "id": "etlNNhL3syKU",
        "colab_type": "code",
        "outputId": "b61b72ff-28d1-4823-8ce8-8b3567c33f12",
        "colab": {}
      },
      "source": [
        "model.intercept_ # sklearn"
      ],
      "execution_count": 0,
      "outputs": [
        {
          "output_type": "execute_result",
          "data": {
            "text/plain": [
              "2.432727161471293"
            ]
          },
          "metadata": {
            "tags": []
          },
          "execution_count": 41
        }
      ]
    },
    {
      "cell_type": "code",
      "metadata": {
        "id": "ngq_L_dPsyKX",
        "colab_type": "code",
        "outputId": "a41b6eac-7edf-4412-f9f9-31d037ffb757",
        "colab": {}
      },
      "source": [
        "model.coef_"
      ],
      "execution_count": 0,
      "outputs": [
        {
          "output_type": "execute_result",
          "data": {
            "text/plain": [
              "array([4.36961383e-05])"
            ]
          },
          "metadata": {
            "tags": []
          },
          "execution_count": 42
        }
      ]
    },
    {
      "cell_type": "code",
      "metadata": {
        "id": "xjci3vRfsyKb",
        "colab_type": "code",
        "outputId": "fa71f1bb-10ab-43d2-8f3c-c9494a12f7bc",
        "colab": {}
      },
      "source": [
        "print(f'{model.coef_[0]:.7f}')"
      ],
      "execution_count": 0,
      "outputs": [
        {
          "output_type": "stream",
          "text": [
            "0.0000437\n"
          ],
          "name": "stdout"
        }
      ]
    },
    {
      "cell_type": "code",
      "metadata": {
        "id": "b1UQpt4GsyKe",
        "colab_type": "code",
        "colab": {}
      },
      "source": [
        ""
      ],
      "execution_count": 0,
      "outputs": []
    }
  ]
}